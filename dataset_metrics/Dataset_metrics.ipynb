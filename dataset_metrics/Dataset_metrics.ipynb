{
 "cells": [
  {
   "cell_type": "code",
   "execution_count": null,
   "id": "requested-karaoke",
   "metadata": {},
   "outputs": [],
   "source": [
    "import pyspark.sql\n",
    "import pandas as pd"
   ]
  },
  {
   "cell_type": "code",
   "execution_count": null,
   "id": "provincial-southeast",
   "metadata": {
    "tags": [
     "parameters"
    ]
   },
   "outputs": [],
   "source": [
    "# Create output directory\n",
    "output_dir = \"Data_Metrics_Output\"\n",
    "if not os.path.exists(output_dir):\n",
    "    os.makedirs(output_dir)\n",
    "\n",
    "snapshot = \"2021-01\""
   ]
  },
  {
   "cell_type": "markdown",
   "id": "incorporate-registration",
   "metadata": {},
   "source": [
    "### Total number of records (per wiki)"
   ]
  },
  {
   "cell_type": "code",
   "execution_count": null,
   "id": "ranking-gibraltar",
   "metadata": {},
   "outputs": [],
   "source": [
    "query = \"\"\"SELECT wiki AS Wiki, snapshot, COUNT(*) as `Number of Records`\n",
    "        FROM gmodena.imagerec_prod\n",
    "        WHERE snapshot='\"\"\"+snapshot+\"\"\"' \n",
    "        GROUP BY wiki, snapshot\n",
    "        ORDER BY wiki\"\"\"\n",
    "total_number_of_records = spark.sql(query).toPandas()"
   ]
  },
  {
   "cell_type": "code",
   "execution_count": null,
   "id": "dangerous-conservative",
   "metadata": {
    "scrolled": true
   },
   "outputs": [],
   "source": [
    "total_number_of_records"
   ]
  },
  {
   "cell_type": "code",
   "execution_count": null,
   "id": "standard-special",
   "metadata": {},
   "outputs": [],
   "source": [
    "total_number_of_records.to_csv(output_dir+\"/\"+\"Total number of records\")"
   ]
  },
  {
   "cell_type": "markdown",
   "id": "romance-superintendent",
   "metadata": {},
   "source": [
    "### Population statistics"
   ]
  },
  {
   "cell_type": "code",
   "execution_count": null,
   "id": "freelance-florence",
   "metadata": {},
   "outputs": [],
   "source": [
    "population_stat = total_number_of_records['Number of Records'].describe()\n",
    "population_stat.to_csv(output_dir+\"/\"+\"Population statistics\")\n",
    "population_stat"
   ]
  },
  {
   "cell_type": "code",
   "execution_count": null,
   "id": "hispanic-standard",
   "metadata": {},
   "outputs": [],
   "source": [
    "total_number_of_records.boxplot(column=['Number of Records'])"
   ]
  },
  {
   "cell_type": "code",
   "execution_count": null,
   "id": "patent-scale",
   "metadata": {},
   "outputs": [],
   "source": [
    "pop_stat_median = pd.DataFrame(data={\"Median\": [total_number_of_records[\"Number of Records\"].median()]})\n",
    "pop_stat_median.to_csv(output_dir+\"/\"+\"Population statistics median\")\n",
    "pop_stat_median"
   ]
  },
  {
   "cell_type": "code",
   "execution_count": null,
   "id": "metropolitan-keeping",
   "metadata": {},
   "outputs": [],
   "source": [
    "pop_stat_mode = total_number_of_records['Number of Records'].mode()\n",
    "pop_stat_mode.to_csv(output_dir+\"/\"+\"Population statistics mode\")\n",
    "pop_stat_mode"
   ]
  },
  {
   "cell_type": "markdown",
   "id": "middle-hamilton",
   "metadata": {},
   "source": [
    "### Total number of images per page"
   ]
  },
  {
   "cell_type": "code",
   "execution_count": null,
   "id": "distinguished-stranger",
   "metadata": {},
   "outputs": [],
   "source": [
    "query = \"\"\"SELECT wiki AS Wiki, page_id as `Page ID`, COUNT(*) as `Number of Images`\n",
    "        FROM gmodena.imagerec_prod\n",
    "        WHERE snapshot='\"\"\"+snapshot+\"\"\"'\n",
    "        GROUP BY wiki, page_id\n",
    "        ORDER BY wiki, page_id\"\"\"\n",
    "total_number_of_images_per_page = spark.sql(query).toPandas()"
   ]
  },
  {
   "cell_type": "code",
   "execution_count": null,
   "id": "adopted-mexican",
   "metadata": {},
   "outputs": [],
   "source": [
    "total_number_of_images_per_page.to_csv(output_dir+\"/\"+\"Total number of images per page\")\n",
    "total_number_of_images_per_page"
   ]
  },
  {
   "cell_type": "markdown",
   "id": "fifty-motel",
   "metadata": {},
   "source": [
    "#### Breakdown of the number of images being suggested for each page"
   ]
  },
  {
   "cell_type": "markdown",
   "id": "deluxe-father",
   "metadata": {},
   "source": [
    "Keep in mind that pages without an image suggestion will apear as 1."
   ]
  },
  {
   "cell_type": "code",
   "execution_count": null,
   "id": "accomplished-leather",
   "metadata": {},
   "outputs": [],
   "source": [
    "query = \"\"\"SELECT number_of_images AS `Image Suggestions`, count(*) AS `Pages`\n",
    "        FROM (\n",
    "        SELECT wiki, page_id, COUNT(*) as number_of_images\n",
    "        FROM gmodena.imagerec_prod\n",
    "        WHERE snapshot='\"\"\"+snapshot+\"\"\"'\n",
    "        GROUP BY wiki, page_id\n",
    "        ) AS expr_qry \n",
    "        GROUP BY number_of_images\n",
    "        ORDER BY number_of_images\"\"\"\n",
    "breakdown_of_image_sug_per_page = spark.sql(query).toPandas()"
   ]
  },
  {
   "cell_type": "code",
   "execution_count": null,
   "id": "undefined-childhood",
   "metadata": {
    "scrolled": true
   },
   "outputs": [],
   "source": [
    "breakdown_of_image_sug_per_page.set_index('Image Suggestions', inplace=True)\n",
    "breakdown_of_image_sug_per_page.to_csv(output_dir+\"/\"+\"Breakdown of image sug per page\")\n",
    "breakdown_of_image_sug_per_page"
   ]
  },
  {
   "cell_type": "code",
   "execution_count": null,
   "id": "dynamic-jacket",
   "metadata": {},
   "outputs": [],
   "source": [
    "breakdown_of_image_sug_per_page.plot(y=\"Pages\",\n",
    "                                     title=\"Breakdown of Images Suggestion Per Page\",\n",
    "                                     autopct=\"%.2f\",\n",
    "                                     figsize=(6, 6),\n",
    "                                     kind=\"pie\");"
   ]
  },
  {
   "cell_type": "markdown",
   "id": "excessive-intelligence",
   "metadata": {},
   "source": [
    "Breakdown of image suggestion data by confidence rating.\n",
    "A rating of None indicates that the page has no image suggestion"
   ]
  },
  {
   "cell_type": "code",
   "execution_count": null,
   "id": "filled-dutch",
   "metadata": {},
   "outputs": [],
   "source": [
    "query = \"\"\"SELECT wiki AS Wiki, confidence_rating AS `Confidence Rating`, COUNT(*) AS `Image Suggestions`\n",
    "        FROM gmodena.imagerec_prod\n",
    "        WHERE snapshot='\"\"\"+snapshot+\"\"\"'\n",
    "        GROUP BY Wiki, `Confidence Rating`\n",
    "        ORDER BY Wiki, `Confidence Rating`\"\"\"\n",
    "breakdown_of_image_sug_by_confidence_score = spark.sql(query).toPandas()"
   ]
  },
  {
   "cell_type": "code",
   "execution_count": null,
   "id": "effective-thomson",
   "metadata": {},
   "outputs": [],
   "source": [
    "breakdown_of_image_sug_by_confidence_score.to_csv(output_dir+\"/\"+\"Breakdown of image sug by conf rating\")\n",
    "breakdown_of_image_sug_by_confidence_score"
   ]
  },
  {
   "cell_type": "markdown",
   "id": "cultural-defeat",
   "metadata": {},
   "source": [
    "#### Get articles with more than 3 image suggestions\n",
    "\n",
    "Assuming no error this table should be empty"
   ]
  },
  {
   "cell_type": "code",
   "execution_count": null,
   "id": "compressed-brooks",
   "metadata": {},
   "outputs": [],
   "source": [
    "query = \"\"\"WITH large_image_sug AS \n",
    "        (SELECT wiki, page_id, COUNT(*)\n",
    "        FROM gmodena.imagerec_prod\n",
    "        WHERE snapshot='\"\"\"+snapshot+\"\"\"'\n",
    "        GROUP BY wiki, page_id\n",
    "        HAVING COUNT(*) > 3)\n",
    "        SELECT p.* \n",
    "        FROM gmodena.imagerec_prod p\n",
    "        JOIN large_image_sug\n",
    "        ON large_image_sug.wiki = p.wiki\n",
    "        AND large_image_sug.page_id = p.page_id\n",
    "        AND p.snapshot='\"\"\"+snapshot+\"\"\"'\n",
    "        ORDER BY p.wiki, p.page_id, p.image_id\"\"\"\n",
    "articles_with_more_image_sug = spark.sql(query).toPandas()"
   ]
  },
  {
   "cell_type": "code",
   "execution_count": null,
   "id": "happy-navigator",
   "metadata": {
    "scrolled": true
   },
   "outputs": [],
   "source": [
    "articles_with_more_image_sug.to_csv(output_dir+\"/\"+\"Articles with more than 3 sug\")\n",
    "articles_with_more_image_sug"
   ]
  },
  {
   "cell_type": "markdown",
   "id": "dental-bennett",
   "metadata": {},
   "source": [
    "### Size and counts of intermediate and final datasets"
   ]
  },
  {
   "cell_type": "code",
   "execution_count": null,
   "id": "complete-glossary",
   "metadata": {},
   "outputs": [],
   "source": [
    "query = \"\"\"SELECT wiki_db AS `Wiki`, snapshot, COUNT(*) AS `Raw Number of Records`\n",
    "        FROM gmodena.imagerec\n",
    "        WHERE snapshot='\"\"\"+snapshot+\"\"\"'\n",
    "        GROUP BY wiki_db, snapshot\n",
    "        ORDER BY wiki_db\"\"\"\n",
    "raw_total_number_of_records = spark.sql(query).toPandas()"
   ]
  },
  {
   "cell_type": "code",
   "execution_count": null,
   "id": "numerical-bryan",
   "metadata": {},
   "outputs": [],
   "source": [
    "raw_total_number_of_records"
   ]
  },
  {
   "cell_type": "code",
   "execution_count": null,
   "id": "packed-counter",
   "metadata": {},
   "outputs": [],
   "source": [
    "total_number_of_records = total_number_of_records.rename(columns={\"Number of Records\": \"Final Number of Records\"})\n",
    "result = pd.merge(raw_total_number_of_records, total_number_of_records, on=[\"Wiki\", \"snapshot\"])"
   ]
  },
  {
   "cell_type": "code",
   "execution_count": null,
   "id": "instrumental-species",
   "metadata": {},
   "outputs": [],
   "source": [
    "result.to_csv(output_dir+\"/\"+\"Counts of intermediate and final datasets\")\n",
    "result"
   ]
  },
  {
   "cell_type": "code",
   "execution_count": null,
   "id": "modern-productivity",
   "metadata": {
    "scrolled": false
   },
   "outputs": [],
   "source": [
    "result.plot(x=\"Wiki\",\n",
    "            y=[\"Raw Number of Records\", \"Final Number of Records\"],\n",
    "            title=\"Comparison of intermediate and final number of records\",\n",
    "            figsize=(6, 6),\n",
    "            kind=\"bar\")"
   ]
  },
  {
   "cell_type": "code",
   "execution_count": null,
   "id": "worse-fleece",
   "metadata": {},
   "outputs": [],
   "source": []
  }
 ],
 "metadata": {
  "celltoolbar": "Tags",
  "kernelspec": {
   "display_name": "PySpark - YARN (large)",
   "language": "python",
   "name": "spark_yarn_pyspark_large"
  },
  "language_info": {
   "codemirror_mode": {
    "name": "ipython",
    "version": 3
   },
   "file_extension": ".py",
   "mimetype": "text/x-python",
   "name": "python",
   "nbconvert_exporter": "python",
   "pygments_lexer": "ipython3",
   "version": "3.7.3"
  }
 },
 "nbformat": 4,
 "nbformat_minor": 5
}
