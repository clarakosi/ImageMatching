{
 "cells": [
  {
   "cell_type": "markdown",
   "id": "considered-fraction",
   "metadata": {},
   "source": [
    "## Dataset analysis and metrics"
   ]
  },
  {
   "cell_type": "code",
   "execution_count": null,
   "id": "retired-bearing",
   "metadata": {},
   "outputs": [],
   "source": [
    "import numpy as np\n",
    "import pandas as pd\n",
    "import sweetviz as sv\n",
    "from pandas_profiling import ProfileReport\n",
    "from wmfdata.spark import get_session"
   ]
  },
  {
   "cell_type": "code",
   "execution_count": null,
   "id": "focal-discrimination",
   "metadata": {},
   "outputs": [],
   "source": [
    "# We use wmfdata boilerplate to init a spark session.\n",
    "# Under the hood the library uses findspark to initialise\n",
    "# Spark's environment. pyspark imports will be available \n",
    "# after initialisation\n",
    "spark = get_session(type='regular', app_name=\"ImageRec-DEV Training\")\n",
    "import pyspark\n",
    "import pyspark.sql"
   ]
  },
  {
   "cell_type": "code",
   "execution_count": null,
   "id": "median-cruise",
   "metadata": {
    "tags": []
   },
   "outputs": [],
   "source": [
    "query = \"\"\"SELECT *\n",
    "        FROM clarakosi.imagerec_prod\n",
    "        WHERE snapshot='2021-03'\n",
    "        AND wiki='cebwiki'\n",
    "        \"\"\"\n",
    "df = spark.sql(query).toPandas()"
   ]
  },
  {
   "cell_type": "code",
   "execution_count": null,
   "id": "considered-essence",
   "metadata": {},
   "outputs": [],
   "source": [
    "profile = ProfileReport(df, title=\"Cebwiki image suggestion data analysis\")"
   ]
  },
  {
   "cell_type": "code",
   "execution_count": null,
   "id": "printable-lloyd",
   "metadata": {},
   "outputs": [],
   "source": [
    "profile.to_file('cebwiki_image_sugg_pandas_analysis.html')"
   ]
  },
  {
   "cell_type": "code",
   "execution_count": null,
   "id": "superb-runner",
   "metadata": {},
   "outputs": [],
   "source": [
    "df = df.drop(columns=['found_on'])\n",
    "sweet_report = sv.analyze(df)"
   ]
  },
  {
   "cell_type": "code",
   "execution_count": null,
   "id": "partial-difficulty",
   "metadata": {},
   "outputs": [],
   "source": [
    "sweet_report.show_html('cebwiki_image_sugg_sv_analysis.html')"
   ]
  },
  {
   "cell_type": "code",
   "execution_count": null,
   "id": "prospective-swaziland",
   "metadata": {},
   "outputs": [],
   "source": []
  }
 ],
 "metadata": {
  "kernelspec": {
   "display_name": "Python 3",
   "language": "python",
   "name": "python3"
  },
  "language_info": {
   "codemirror_mode": {
    "name": "ipython",
    "version": 3
   },
   "file_extension": ".py",
   "mimetype": "text/x-python",
   "name": "python",
   "nbconvert_exporter": "python",
   "pygments_lexer": "ipython3",
   "version": "3.7.3"
  }
 },
 "nbformat": 4,
 "nbformat_minor": 5
}
