{
 "cells": [
  {
   "cell_type": "markdown",
   "id": "expected-nitrogen",
   "metadata": {},
   "source": [
    "## Dataset analysis and metrics"
   ]
  },
  {
   "cell_type": "code",
   "execution_count": null,
   "id": "immediate-infection",
   "metadata": {},
   "outputs": [],
   "source": [
    "import dtale\n",
    "import numpy as np\n",
    "import pandas as pd\n",
    "import sweetviz as sv\n",
    "import dtale.app as dtale_app\n",
    "from pandas_profiling import ProfileReport\n",
    "from wmfdata.spark import get_session"
   ]
  },
  {
   "cell_type": "code",
   "execution_count": null,
   "id": "expanded-elephant",
   "metadata": {},
   "outputs": [],
   "source": [
    "# We use wmfdata boilerplate to init a spark session.\n",
    "# Under the hood the library uses findspark to initialise\n",
    "# Spark's environment. pyspark imports will be available \n",
    "# after initialisation\n",
    "spark = get_session(type='regular', app_name=\"ImageRec-DEV Training\")\n",
    "import pyspark\n",
    "import pyspark.sql"
   ]
  },
  {
   "cell_type": "code",
   "execution_count": null,
   "id": "initial-equality",
   "metadata": {
    "tags": []
   },
   "outputs": [],
   "source": [
    "query = \"\"\"SELECT *\n",
    "        FROM clarakosi.imagerec_prod\n",
    "        WHERE snapshot='2021-03'\n",
    "        AND wiki='cebwiki'\n",
    "        \"\"\"\n",
    "df = spark.sql(query).toPandas()"
   ]
  },
  {
   "cell_type": "markdown",
   "id": "functioning-caution",
   "metadata": {},
   "source": [
    "### Panda profiling"
   ]
  },
  {
   "cell_type": "code",
   "execution_count": null,
   "id": "ranking-things",
   "metadata": {},
   "outputs": [],
   "source": [
    "profile = ProfileReport(df, title=\"Cebwiki image suggestion data analysis\")"
   ]
  },
  {
   "cell_type": "code",
   "execution_count": null,
   "id": "orange-joseph",
   "metadata": {},
   "outputs": [],
   "source": [
    "profile.to_file('cebwiki_image_sugg_pandas_analysis.html')"
   ]
  },
  {
   "cell_type": "markdown",
   "id": "voluntary-bolivia",
   "metadata": {},
   "source": [
    "### Sweetviz"
   ]
  },
  {
   "cell_type": "code",
   "execution_count": null,
   "id": "responsible-precipitation",
   "metadata": {
    "tags": []
   },
   "outputs": [],
   "source": [
    "df = df.drop(columns=['found_on'])\n",
    "sweet_report = sv.analyze(df)"
   ]
  },
  {
   "cell_type": "code",
   "execution_count": null,
   "id": "prerequisite-administrator",
   "metadata": {},
   "outputs": [],
   "source": [
    "sweet_report.show_html('cebwiki_image_sugg_sv_analysis.html')"
   ]
  },
  {
   "cell_type": "markdown",
   "id": "lightweight-speaker",
   "metadata": {
    "tags": []
   },
   "source": [
    "### D-tale"
   ]
  },
  {
   "cell_type": "code",
   "execution_count": null,
   "id": "processed-government",
   "metadata": {},
   "outputs": [],
   "source": [
    "d = dtale.show(df, host='localhost')\n",
    "d._main_url"
   ]
  },
  {
   "cell_type": "code",
   "execution_count": null,
   "id": "norman-picking",
   "metadata": {},
   "outputs": [],
   "source": [
    "d"
   ]
  }
 ],
 "metadata": {
  "kernelspec": {
   "display_name": "Python 3",
   "language": "python",
   "name": "python3"
  },
  "language_info": {
   "codemirror_mode": {
    "name": "ipython",
    "version": 3
   },
   "file_extension": ".py",
   "mimetype": "text/x-python",
   "name": "python",
   "nbconvert_exporter": "python",
   "pygments_lexer": "ipython3",
   "version": "3.7.1"
  }
 },
 "nbformat": 4,
 "nbformat_minor": 5
}